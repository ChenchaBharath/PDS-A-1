{
 "cells": [
  {
   "cell_type": "code",
   "execution_count": 1,
   "id": "83a8bed0",
   "metadata": {},
   "outputs": [],
   "source": [
    "import pandas as pd"
   ]
  },
  {
   "cell_type": "code",
   "execution_count": 2,
   "id": "5a9c46b5",
   "metadata": {},
   "outputs": [],
   "source": [
    "# importing clean data for analysis"
   ]
  },
  {
   "cell_type": "code",
   "execution_count": 6,
   "id": "a470c608",
   "metadata": {},
   "outputs": [
    {
     "data": {
      "text/html": [
       "<div>\n",
       "<style scoped>\n",
       "    .dataframe tbody tr th:only-of-type {\n",
       "        vertical-align: middle;\n",
       "    }\n",
       "\n",
       "    .dataframe tbody tr th {\n",
       "        vertical-align: top;\n",
       "    }\n",
       "\n",
       "    .dataframe thead th {\n",
       "        text-align: right;\n",
       "    }\n",
       "</style>\n",
       "<table border=\"1\" class=\"dataframe\">\n",
       "  <thead>\n",
       "    <tr style=\"text-align: right;\">\n",
       "      <th></th>\n",
       "      <th>Unnamed: 0</th>\n",
       "      <th>Height</th>\n",
       "      <th>Weight</th>\n",
       "      <th>Age</th>\n",
       "      <th>Grip Strength</th>\n",
       "      <th>Frailty</th>\n",
       "    </tr>\n",
       "  </thead>\n",
       "  <tbody>\n",
       "    <tr>\n",
       "      <th>0</th>\n",
       "      <td>0</td>\n",
       "      <td>65.8</td>\n",
       "      <td>112</td>\n",
       "      <td>30</td>\n",
       "      <td>30</td>\n",
       "      <td>N</td>\n",
       "    </tr>\n",
       "    <tr>\n",
       "      <th>1</th>\n",
       "      <td>1</td>\n",
       "      <td>71.5</td>\n",
       "      <td>136</td>\n",
       "      <td>19</td>\n",
       "      <td>31</td>\n",
       "      <td>N</td>\n",
       "    </tr>\n",
       "    <tr>\n",
       "      <th>2</th>\n",
       "      <td>2</td>\n",
       "      <td>69.4</td>\n",
       "      <td>153</td>\n",
       "      <td>45</td>\n",
       "      <td>29</td>\n",
       "      <td>N</td>\n",
       "    </tr>\n",
       "    <tr>\n",
       "      <th>3</th>\n",
       "      <td>3</td>\n",
       "      <td>68.2</td>\n",
       "      <td>142</td>\n",
       "      <td>22</td>\n",
       "      <td>28</td>\n",
       "      <td>Y</td>\n",
       "    </tr>\n",
       "    <tr>\n",
       "      <th>4</th>\n",
       "      <td>4</td>\n",
       "      <td>67.8</td>\n",
       "      <td>144</td>\n",
       "      <td>29</td>\n",
       "      <td>24</td>\n",
       "      <td>Y</td>\n",
       "    </tr>\n",
       "  </tbody>\n",
       "</table>\n",
       "</div>"
      ],
      "text/plain": [
       "   Unnamed: 0 Height Weight  Age Grip Strength Frailty\n",
       "0           0  65.8    112   30            30       N \n",
       "1           1  71.5    136   19            31       N \n",
       "2           2  69.4    153   45            29       N \n",
       "3           3  68.2    142   22            28       Y \n",
       "4           4  67.8    144   29            24       Y "
      ]
     },
     "execution_count": 6,
     "metadata": {},
     "output_type": "execute_result"
    }
   ],
   "source": [
    "data_frame = pd.read_csv('C:/Users/bhara/OneDrive/Desktop/Principles-of-DS/Frailty/data_clean/Frailty.csv')\n",
    "data_frame.head()"
   ]
  },
  {
   "cell_type": "code",
   "execution_count": 7,
   "id": "5f43fb61",
   "metadata": {},
   "outputs": [
    {
     "name": "stdout",
     "output_type": "stream",
     "text": [
      "<class 'pandas.core.frame.DataFrame'>\n",
      "RangeIndex: 10 entries, 0 to 9\n",
      "Data columns (total 6 columns):\n",
      " #   Column         Non-Null Count  Dtype \n",
      "---  ------         --------------  ----- \n",
      " 0   Unnamed: 0     10 non-null     int64 \n",
      " 1   Height         10 non-null     object\n",
      " 2   Weight         10 non-null     object\n",
      " 3   Age            10 non-null     object\n",
      " 4   Grip Strength  10 non-null     object\n",
      " 5   Frailty        10 non-null     object\n",
      "dtypes: int64(1), object(5)\n",
      "memory usage: 612.0+ bytes\n"
     ]
    }
   ],
   "source": [
    "data_frame.info()"
   ]
  },
  {
   "cell_type": "code",
   "execution_count": 8,
   "id": "b75f6c49",
   "metadata": {},
   "outputs": [
    {
     "data": {
      "text/html": [
       "<div>\n",
       "<style scoped>\n",
       "    .dataframe tbody tr th:only-of-type {\n",
       "        vertical-align: middle;\n",
       "    }\n",
       "\n",
       "    .dataframe tbody tr th {\n",
       "        vertical-align: top;\n",
       "    }\n",
       "\n",
       "    .dataframe thead th {\n",
       "        text-align: right;\n",
       "    }\n",
       "</style>\n",
       "<table border=\"1\" class=\"dataframe\">\n",
       "  <thead>\n",
       "    <tr style=\"text-align: right;\">\n",
       "      <th></th>\n",
       "      <th>Unnamed: 0</th>\n",
       "      <th>Height</th>\n",
       "      <th>Weight</th>\n",
       "      <th>Age</th>\n",
       "      <th>Grip Strength</th>\n",
       "      <th>Frailty</th>\n",
       "    </tr>\n",
       "  </thead>\n",
       "  <tbody>\n",
       "    <tr>\n",
       "      <th>5</th>\n",
       "      <td>5</td>\n",
       "      <td>68.7</td>\n",
       "      <td>123</td>\n",
       "      <td>50</td>\n",
       "      <td>26</td>\n",
       "      <td>N</td>\n",
       "    </tr>\n",
       "    <tr>\n",
       "      <th>6</th>\n",
       "      <td>6</td>\n",
       "      <td>69.8</td>\n",
       "      <td>141</td>\n",
       "      <td>51</td>\n",
       "      <td>22</td>\n",
       "      <td>Y</td>\n",
       "    </tr>\n",
       "    <tr>\n",
       "      <th>7</th>\n",
       "      <td>7</td>\n",
       "      <td>70.1</td>\n",
       "      <td>136</td>\n",
       "      <td>23</td>\n",
       "      <td>20</td>\n",
       "      <td>Y</td>\n",
       "    </tr>\n",
       "    <tr>\n",
       "      <th>8</th>\n",
       "      <td>8</td>\n",
       "      <td>67.9</td>\n",
       "      <td>112</td>\n",
       "      <td>17</td>\n",
       "      <td>19</td>\n",
       "      <td>N</td>\n",
       "    </tr>\n",
       "    <tr>\n",
       "      <th>9</th>\n",
       "      <td>9</td>\n",
       "      <td>66.8</td>\n",
       "      <td>120</td>\n",
       "      <td>39</td>\n",
       "      <td>31</td>\n",
       "      <td>N</td>\n",
       "    </tr>\n",
       "  </tbody>\n",
       "</table>\n",
       "</div>"
      ],
      "text/plain": [
       "   Unnamed: 0 Height Weight  Age Grip Strength Frailty\n",
       "5           5  68.7    123   50            26       N \n",
       "6           6  69.8    141   51            22       Y \n",
       "7           7  70.1    136   23            20       Y \n",
       "8           8  67.9    112   17            19       N \n",
       "9           9  66.8    120   39            31       N "
      ]
     },
     "execution_count": 8,
     "metadata": {},
     "output_type": "execute_result"
    }
   ],
   "source": [
    "data_frame.tail()"
   ]
  },
  {
   "cell_type": "code",
   "execution_count": null,
   "id": "c9fcc656",
   "metadata": {},
   "outputs": [],
   "source": []
  },
  {
   "cell_type": "code",
   "execution_count": 9,
   "id": "5bd588f9",
   "metadata": {},
   "outputs": [],
   "source": [
    "import matplotlib.pyplot as plt\n",
    "import seaborn as sns\n",
    "import numpy as np"
   ]
  },
  {
   "cell_type": "markdown",
   "id": "da965b3f",
   "metadata": {},
   "source": [
    "## the below visualization illustrates the relation between the gripstrength and Height and how it varies on weight."
   ]
  },
  {
   "cell_type": "code",
   "execution_count": 17,
   "id": "89bd0805",
   "metadata": {},
   "outputs": [
    {
     "data": {
      "image/png": "[encoded data removed]",
      "text/plain": [
       "<Figure size 640x480 with 1 Axes>"
      ]
     },
     "metadata": {},
     "output_type": "display_data"
    }
   ],
   "source": [
    "p = data_frame.plot.scatter(x='Height',y='Grip Strength',color='violet')\n",
    "Img = p.get_figure()\n",
    "Img.savefig(\"C:/Users/bhara/OneDrive/Desktop/Principles-of-DS/Frailty/results/Strength_Height_Relation.png\")"
   ]
  },
  {
   "cell_type": "markdown",
   "id": "fc1712dc",
   "metadata": {},
   "source": [
    "## below graph illustrstes the distribution of Gripstrength in the given data"
   ]
  },
  {
   "cell_type": "code",
   "execution_count": 23,
   "id": "93b029f0",
   "metadata": {},
   "outputs": [
    {
     "name": "stderr",
     "output_type": "stream",
     "text": [
      "C:\\Users\\bhara\\AppData\\Local\\Temp\\ipykernel_30356\\3775834806.py:1: UserWarning: \n",
      "\n",
      "`distplot` is a deprecated function and will be removed in seaborn v0.14.0.\n",
      "\n",
      "Please adapt your code to use either `displot` (a figure-level function with\n",
      "similar flexibility) or `histplot` (an axes-level function for histograms).\n",
      "\n",
      "For a guide to updating your code to use the new functions, please see\n",
      "https://gist.github.com/mwaskom/de44147ed2974457ad6372750bbe5751\n",
      "\n",
      "  p = sns.distplot(data_frame['Grip Strength'], kde = False, color = '#bad5e6', bins = 30)\n"
     ]
    },
    {
     "data": {
      "image/png": "[encoded data removed]",
      "text/plain": [
       "<Figure size 640x480 with 1 Axes>"
      ]
     },
     "metadata": {},
     "output_type": "display_data"
    }
   ],
   "source": [
    "p = sns.distplot(data_frame['Grip Strength'], kde = False, color = '#bad5e6', bins = 30)\n",
    "Img = p.get_figure()\n",
    "Img.savefig(\"C:/Users/bhara/OneDrive/Desktop/Principles-of-DS/Frailty/results/Grip_Strength_Distribution.png\")"
   ]
  },
  {
   "cell_type": "code",
   "execution_count": null,
   "id": "5b077810",
   "metadata": {},
   "outputs": [],
   "source": []
  }
 ],
 "metadata": {
  "kernelspec": {
   "display_name": "Python 3 (ipykernel)",
   "language": "python",
   "name": "python3"
  },
  "language_info": {
   "codemirror_mode": {
    "name": "ipython",
    "version": 3
   },
   "file_extension": ".py",
   "mimetype": "text/x-python",
   "name": "python",
   "nbconvert_exporter": "python",
   "pygments_lexer": "ipython3",
   "version": "3.11.4"
  }
 },
 "nbformat": 4,
 "nbformat_minor": 5
}
